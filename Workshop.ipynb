{
 "cells": [
  {
   "cell_type": "code",
   "execution_count": null,
   "metadata": {},
   "outputs": [],
   "source": [
    "pip install opencv-python numpy"
   ]
  },
  {
   "cell_type": "code",
   "execution_count": 1,
   "metadata": {},
   "outputs": [],
   "source": [
    "import numpy as np\n",
    "import cv2\n",
    "from google.colab.patches import cv2_imshow"
   ]
  },
  {
   "cell_type": "code",
   "execution_count": 2,
   "metadata": {},
   "outputs": [
    {
     "name": "stdout",
     "output_type": "stream",
     "text": [
      "(408, 612, 3)\n"
     ]
    }
   ],
   "source": [
    "img = cv2.imread(\"tennisBall.jpg\")\n",
    "\n",
    "print(img.shape)\n",
    "\n",
    "cv2_imshow(img)\n",
    "\n",
    "#cv2.imshow(\"Title\", img)\n",
    "#cv2.waitKey()\n",
    "#cv2.destroyAllWindows()"
   ]
  },
  {
   "cell_type": "code",
   "execution_count": 3,
   "metadata": {},
   "outputs": [],
   "source": [
    "#draw a circle \n",
    "cv2.circle(img, (100,100), 20, (0,255,0), 2)\n",
    "cv2_imshow(img)\n",
    "\n",
    "#draw a rectangle\n",
    "cv2.rectangle(img, (100,100), (200,200), (0,255,0), 2)\n",
    "cv2_imshow(img)\n",
    "\n",
    "#make it grayscale\n",
    "gray = cv2.cvtColor(img, cv2.COLOR_BGR2GRAY)\n",
    "cv2_imshow(gray)\n"
   ]
  },
  {
   "cell_type": "code",
   "execution_count": null,
   "metadata": {},
   "outputs": [],
   "source": [
    "#Masking\n",
    "\n",
    "mask = np.zeros(img.shape[:2], dtype=\"uint8\")\n",
    "cv2_imshow(mask) \n",
    "\n",
    "cv2.circle(mask, (150,150), 100, 255, -1)\n",
    "cv2_imshow(mask)\n",
    "\n",
    "#apply mask to image\n",
    "masked = cv2.bitwise_and(img, img, mask=mask)\n",
    "cv2_imshow(masked)"
   ]
  },
  {
   "cell_type": "code",
   "execution_count": null,
   "metadata": {},
   "outputs": [],
   "source": [
    "#Searching Through Color\n",
    "#First lets reload our image to get rid of the rectangles and circles\n",
    "\n",
    "img = cv2.imread(\"tennisBall.jpg\")\n",
    "cv2_imshow(img)\n",
    "\n",
    "greenMask = cv2.inRange(img, (0, 150, 0), (255, 250, 255))\n",
    "cv2_imshow(greenMask)\n",
    "\n",
    "masked = cv2.bitwise_and(img, img, mask=greenMask)\n",
    "cv2_imshow(masked)"
   ]
  },
  {
   "cell_type": "code",
   "execution_count": null,
   "metadata": {},
   "outputs": [],
   "source": [
    "multiColorBalls = cv2.imread(\"multiColorBalls.png\")\n",
    "\n",
    "blueMask = cv2.inRange(multiColorBalls, (100, 0, 0), (255, 255, 255))\n",
    "cv2_imshow(blueMask)\n",
    "greenMask = cv2.inRange(multiColorBalls, (255, 255, 255), (255, 255, 255))\n",
    "cv2_imshow(greenMask)\n",
    "redMask = cv2.inRange(multiColorBalls, (255, 255, 255), (255, 255, 255))\n",
    "cv2_imshow(redMask)\n",
    "yellowMask = cv2.inRange(multiColorBalls, (255, 255, 255), (255, 255, 255))\n",
    "cv2_imshow(yellowMask)\n",
    "\n",
    "masked = cv2.bitwise_and(multiColorBalls, multiColorBalls, mask=blueMask)\n",
    "cv2_imshow(masked)\n",
    "\n"
   ]
  },
  {
   "cell_type": "code",
   "execution_count": null,
   "metadata": {},
   "outputs": [],
   "source": [
    "#Eroding\n",
    "img = cv2.imread(\"tennisBall.jpg\")\n",
    "cv2_imshow(img)\n",
    "greenMask = cv2.inRange(img, (0, 150, 0), (255, 255, 255))\n",
    "cv2_imshow(greenMask)\n",
    "kernel = np.ones((5,5),np.uint8)\n",
    "eroded = cv2.erode(greenMask, kernel, iterations = 1)\n",
    "cv2_imshow(eroded)\n",
    "masked = cv2.bitwise_and(img, img, mask=eroded)\n",
    "cv2_imshow(masked)"
   ]
  },
  {
   "cell_type": "code",
   "execution_count": null,
   "metadata": {},
   "outputs": [],
   "source": [
    "#Dilating\n",
    "img = cv2.imread(\"tennisBall.jpg\")\n",
    "cv2_imshow(img)\n",
    "greenMask = cv2.inRange(img, (0, 130, 0), (255, 255, 255))\n",
    "cv2_imshow(greenMask)\n",
    "eroded = cv2.erode(greenMask, kernel, iterations = 3)\n",
    "cv2_imshow(eroded)\n",
    "kernel = np.ones((5,5),np.uint8)\n",
    "dilated = cv2.dilate(eroded, kernel, iterations = 3)\n",
    "cv2_imshow(dilated)\n",
    "masked = cv2.bitwise_and(img, img, mask=dilated)\n",
    "cv2_imshow(masked)"
   ]
  },
  {
   "cell_type": "code",
   "execution_count": null,
   "metadata": {},
   "outputs": [],
   "source": [
    "fourCircles = np.zeros((500,500,1), dtype=\"uint8\")\n",
    "cv2.circle(fourCircles, (100,100), 20, (255,255,255), -1)\n",
    "cv2.circle(fourCircles, (200,200), 20, (255,255,255), -1)\n",
    "cv2.circle(fourCircles, (300,300), 20, (255,255,255), -1)\n",
    "cv2.circle(fourCircles, (400,400), 20, (255,255,255), -1)\n",
    "cv2_imshow(fourCircles)\n",
    "\n",
    "contours, hierarchy = cv2.findContours(fourCircles, cv2.RETR_TREE, cv2.CHAIN_APPROX_SIMPLE)\n",
    "\n",
    "cv2.drawContours(fourCircles, contours, -1, (0,0,255), 3)\n",
    "\n",
    "print(\"Num Contours:\",len(contours))\n",
    "\n",
    "for c in contours:\n",
    "  area = cv2.contourArea(c)\n",
    "  print(\"Area:\", area)\n"
   ]
  },
  {
   "cell_type": "code",
   "execution_count": null,
   "metadata": {},
   "outputs": [],
   "source": [
    "multiColorBalls = cv2.imread(\"multiColorBalls.png\")\n",
    "cv2_imshow(multiColorBalls)\n",
    "#convert to grayscale\n",
    "gray = cv2.cvtColor(multiColorBalls, cv2.COLOR_BGR2GRAY)\n",
    "cv2_imshow(gray)\n",
    "#threshold\n",
    "_, thresh = cv2.threshold(gray, 250, 255, cv2.THRESH_BINARY_INV)\n",
    "cv2_imshow(thresh)\n",
    "#find contours\n",
    "contours, hierarchy = cv2.findContours(thresh, cv2.RETR_TREE, cv2.CHAIN_APPROX_SIMPLE)\n",
    "cv2.drawContours(multiColorBalls, contours, -1, (0,0,255), 3)\n",
    "cv2_imshow(multiColorBalls)\n",
    "print(\"There are \", len(contours), \"balls in the image\")\n",
    "\n",
    "#print area of contours\n",
    "# for c in contours:\n",
    "#   area = cv2.contourArea(c)\n",
    "#   print(\"Area:\", area)\n",
    "\n",
    "# ballCount = 0\n",
    "# for c in contours:\n",
    "#   area = cv2.contourArea(c)\n",
    "#   if area >= 2000:\n",
    "#     ballCount += 1\n",
    "# print(\"There are \", ballCount, \"balls in the image\")"
   ]
  }
 ],
 "metadata": {
  "kernelspec": {
   "display_name": "Python 3",
   "language": "python",
   "name": "python3"
  },
  "language_info": {
   "codemirror_mode": {
    "name": "ipython",
    "version": 3
   },
   "file_extension": ".py",
   "mimetype": "text/x-python",
   "name": "python",
   "nbconvert_exporter": "python",
   "pygments_lexer": "ipython3",
   "version": "3.9.5"
  }
 },
 "nbformat": 4,
 "nbformat_minor": 2
}
